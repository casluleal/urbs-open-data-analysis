{
 "cells": [
  {
   "cell_type": "markdown",
   "source": [
    "# Analyze files content"
   ],
   "metadata": {
    "collapsed": false
   }
  },
  {
   "cell_type": "code",
   "execution_count": 15,
   "metadata": {
    "collapsed": true
   },
   "outputs": [],
   "source": [
    "import json\n",
    "import lzma\n",
    "\n",
    "import pandas as pd"
   ]
  },
  {
   "cell_type": "code",
   "execution_count": 26,
   "outputs": [],
   "source": [
    "def read_file(file_path, is_veiculos):\n",
    "    if is_veiculos:\n",
    "        with lzma.open(file_path, mode='rt') as f:\n",
    "            file_data = filter(lambda x: x != '\\n', f.readlines())\n",
    "\n",
    "            data = []\n",
    "            for line in file_data:\n",
    "                data.append(json.loads(line))\n",
    "\n",
    "            df = pd.DataFrame(data)\n",
    "    else:\n",
    "        df = pd.read_json(file_path, compression='xz')\n",
    "\n",
    "    return df"
   ],
   "metadata": {
    "collapsed": false
   }
  },
  {
   "cell_type": "markdown",
   "source": [
    "## Check bus_lines included in the file"
   ],
   "metadata": {
    "collapsed": false
   }
  },
  {
   "cell_type": "code",
   "execution_count": 33,
   "outputs": [
    {
     "data": {
      "text/plain": "    VEIC         LAT         LON                 DTHR COD_LINHA\n0  MC302  -25.413048  -49.317175  08/05/2019 08:04:30       901\n1  MC302  -25.413156  -49.316796  08/05/2019 08:04:26       901\n2  MC302  -25.413168  -49.316445  08/05/2019 08:04:22       901\n3  MC302  -25.413151  -49.316301  08/05/2019 08:04:20       901\n4  MC302  -25.413091  -49.316013  08/05/2019 08:04:05       901",
      "text/html": "<div>\n<style scoped>\n    .dataframe tbody tr th:only-of-type {\n        vertical-align: middle;\n    }\n\n    .dataframe tbody tr th {\n        vertical-align: top;\n    }\n\n    .dataframe thead th {\n        text-align: right;\n    }\n</style>\n<table border=\"1\" class=\"dataframe\">\n  <thead>\n    <tr style=\"text-align: right;\">\n      <th></th>\n      <th>VEIC</th>\n      <th>LAT</th>\n      <th>LON</th>\n      <th>DTHR</th>\n      <th>COD_LINHA</th>\n    </tr>\n  </thead>\n  <tbody>\n    <tr>\n      <th>0</th>\n      <td>MC302</td>\n      <td>-25.413048</td>\n      <td>-49.317175</td>\n      <td>08/05/2019 08:04:30</td>\n      <td>901</td>\n    </tr>\n    <tr>\n      <th>1</th>\n      <td>MC302</td>\n      <td>-25.413156</td>\n      <td>-49.316796</td>\n      <td>08/05/2019 08:04:26</td>\n      <td>901</td>\n    </tr>\n    <tr>\n      <th>2</th>\n      <td>MC302</td>\n      <td>-25.413168</td>\n      <td>-49.316445</td>\n      <td>08/05/2019 08:04:22</td>\n      <td>901</td>\n    </tr>\n    <tr>\n      <th>3</th>\n      <td>MC302</td>\n      <td>-25.413151</td>\n      <td>-49.316301</td>\n      <td>08/05/2019 08:04:20</td>\n      <td>901</td>\n    </tr>\n    <tr>\n      <th>4</th>\n      <td>MC302</td>\n      <td>-25.413091</td>\n      <td>-49.316013</td>\n      <td>08/05/2019 08:04:05</td>\n      <td>901</td>\n    </tr>\n  </tbody>\n</table>\n</div>"
     },
     "execution_count": 33,
     "metadata": {},
     "output_type": "execute_result"
    }
   ],
   "source": [
    "file_path = '../tmp/2019_05_09_veiculos.json.xz'\n",
    "is_veiculos = True\n",
    "\n",
    "df = read_file(file_path, is_veiculos)\n",
    "df.head()"
   ],
   "metadata": {
    "collapsed": false
   }
  },
  {
   "cell_type": "code",
   "execution_count": 34,
   "outputs": [
    {
     "data": {
      "text/plain": "            VEIC    LAT    LON   DTHR\nCOD_LINHA                            \n010         5871   5871   5871   5871\n011          798    798    798    798\n021         3615   3615   3615   3615\n022         1721   1721   1721   1721\n023         4570   4570   4570   4570\n150        12045  12045  12045  12045\n225         1864   1864   1864   1864\n232         6538   6538   6538   6538\n307        10930  10930  10930  10930\n341         5781   5781   5781   5781\n342         6341   6341   6341   6341\n365         5140   5140   5140   5140\n372         3731   3731   3731   3731\n464         3855   3855   3855   3855\n811        14260  14260  14260  14260\n812        12010  12010  12010  12010\n815         1525   1525   1525   1525\n816        15836  15836  15836  15836\n822        13042  13042  13042  13042\n827         8567   8567   8567   8567\n829         9636   9636   9636   9636\n901        12324  12324  12324  12324\n902         4228   4228   4228   4228\n911         6321   6321   6321   6321\n912         6422   6422   6422   6422\n913         8703   8703   8703   8703\n915         5811   5811   5811   5811\n916        12891  12891  12891  12891\n918         7469   7469   7469   7469\n924         4056   4056   4056   4056\n965        21178  21178  21178  21178\n967        13419  13419  13419  13419\n979         7524   7524   7524   7524\n989         1780   1780   1780   1780\n995          702    702    702    702\n996         1217   1217   1217   1217\n997         1190   1190   1190   1190",
      "text/html": "<div>\n<style scoped>\n    .dataframe tbody tr th:only-of-type {\n        vertical-align: middle;\n    }\n\n    .dataframe tbody tr th {\n        vertical-align: top;\n    }\n\n    .dataframe thead th {\n        text-align: right;\n    }\n</style>\n<table border=\"1\" class=\"dataframe\">\n  <thead>\n    <tr style=\"text-align: right;\">\n      <th></th>\n      <th>VEIC</th>\n      <th>LAT</th>\n      <th>LON</th>\n      <th>DTHR</th>\n    </tr>\n    <tr>\n      <th>COD_LINHA</th>\n      <th></th>\n      <th></th>\n      <th></th>\n      <th></th>\n    </tr>\n  </thead>\n  <tbody>\n    <tr>\n      <th>010</th>\n      <td>5871</td>\n      <td>5871</td>\n      <td>5871</td>\n      <td>5871</td>\n    </tr>\n    <tr>\n      <th>011</th>\n      <td>798</td>\n      <td>798</td>\n      <td>798</td>\n      <td>798</td>\n    </tr>\n    <tr>\n      <th>021</th>\n      <td>3615</td>\n      <td>3615</td>\n      <td>3615</td>\n      <td>3615</td>\n    </tr>\n    <tr>\n      <th>022</th>\n      <td>1721</td>\n      <td>1721</td>\n      <td>1721</td>\n      <td>1721</td>\n    </tr>\n    <tr>\n      <th>023</th>\n      <td>4570</td>\n      <td>4570</td>\n      <td>4570</td>\n      <td>4570</td>\n    </tr>\n    <tr>\n      <th>150</th>\n      <td>12045</td>\n      <td>12045</td>\n      <td>12045</td>\n      <td>12045</td>\n    </tr>\n    <tr>\n      <th>225</th>\n      <td>1864</td>\n      <td>1864</td>\n      <td>1864</td>\n      <td>1864</td>\n    </tr>\n    <tr>\n      <th>232</th>\n      <td>6538</td>\n      <td>6538</td>\n      <td>6538</td>\n      <td>6538</td>\n    </tr>\n    <tr>\n      <th>307</th>\n      <td>10930</td>\n      <td>10930</td>\n      <td>10930</td>\n      <td>10930</td>\n    </tr>\n    <tr>\n      <th>341</th>\n      <td>5781</td>\n      <td>5781</td>\n      <td>5781</td>\n      <td>5781</td>\n    </tr>\n    <tr>\n      <th>342</th>\n      <td>6341</td>\n      <td>6341</td>\n      <td>6341</td>\n      <td>6341</td>\n    </tr>\n    <tr>\n      <th>365</th>\n      <td>5140</td>\n      <td>5140</td>\n      <td>5140</td>\n      <td>5140</td>\n    </tr>\n    <tr>\n      <th>372</th>\n      <td>3731</td>\n      <td>3731</td>\n      <td>3731</td>\n      <td>3731</td>\n    </tr>\n    <tr>\n      <th>464</th>\n      <td>3855</td>\n      <td>3855</td>\n      <td>3855</td>\n      <td>3855</td>\n    </tr>\n    <tr>\n      <th>811</th>\n      <td>14260</td>\n      <td>14260</td>\n      <td>14260</td>\n      <td>14260</td>\n    </tr>\n    <tr>\n      <th>812</th>\n      <td>12010</td>\n      <td>12010</td>\n      <td>12010</td>\n      <td>12010</td>\n    </tr>\n    <tr>\n      <th>815</th>\n      <td>1525</td>\n      <td>1525</td>\n      <td>1525</td>\n      <td>1525</td>\n    </tr>\n    <tr>\n      <th>816</th>\n      <td>15836</td>\n      <td>15836</td>\n      <td>15836</td>\n      <td>15836</td>\n    </tr>\n    <tr>\n      <th>822</th>\n      <td>13042</td>\n      <td>13042</td>\n      <td>13042</td>\n      <td>13042</td>\n    </tr>\n    <tr>\n      <th>827</th>\n      <td>8567</td>\n      <td>8567</td>\n      <td>8567</td>\n      <td>8567</td>\n    </tr>\n    <tr>\n      <th>829</th>\n      <td>9636</td>\n      <td>9636</td>\n      <td>9636</td>\n      <td>9636</td>\n    </tr>\n    <tr>\n      <th>901</th>\n      <td>12324</td>\n      <td>12324</td>\n      <td>12324</td>\n      <td>12324</td>\n    </tr>\n    <tr>\n      <th>902</th>\n      <td>4228</td>\n      <td>4228</td>\n      <td>4228</td>\n      <td>4228</td>\n    </tr>\n    <tr>\n      <th>911</th>\n      <td>6321</td>\n      <td>6321</td>\n      <td>6321</td>\n      <td>6321</td>\n    </tr>\n    <tr>\n      <th>912</th>\n      <td>6422</td>\n      <td>6422</td>\n      <td>6422</td>\n      <td>6422</td>\n    </tr>\n    <tr>\n      <th>913</th>\n      <td>8703</td>\n      <td>8703</td>\n      <td>8703</td>\n      <td>8703</td>\n    </tr>\n    <tr>\n      <th>915</th>\n      <td>5811</td>\n      <td>5811</td>\n      <td>5811</td>\n      <td>5811</td>\n    </tr>\n    <tr>\n      <th>916</th>\n      <td>12891</td>\n      <td>12891</td>\n      <td>12891</td>\n      <td>12891</td>\n    </tr>\n    <tr>\n      <th>918</th>\n      <td>7469</td>\n      <td>7469</td>\n      <td>7469</td>\n      <td>7469</td>\n    </tr>\n    <tr>\n      <th>924</th>\n      <td>4056</td>\n      <td>4056</td>\n      <td>4056</td>\n      <td>4056</td>\n    </tr>\n    <tr>\n      <th>965</th>\n      <td>21178</td>\n      <td>21178</td>\n      <td>21178</td>\n      <td>21178</td>\n    </tr>\n    <tr>\n      <th>967</th>\n      <td>13419</td>\n      <td>13419</td>\n      <td>13419</td>\n      <td>13419</td>\n    </tr>\n    <tr>\n      <th>979</th>\n      <td>7524</td>\n      <td>7524</td>\n      <td>7524</td>\n      <td>7524</td>\n    </tr>\n    <tr>\n      <th>989</th>\n      <td>1780</td>\n      <td>1780</td>\n      <td>1780</td>\n      <td>1780</td>\n    </tr>\n    <tr>\n      <th>995</th>\n      <td>702</td>\n      <td>702</td>\n      <td>702</td>\n      <td>702</td>\n    </tr>\n    <tr>\n      <th>996</th>\n      <td>1217</td>\n      <td>1217</td>\n      <td>1217</td>\n      <td>1217</td>\n    </tr>\n    <tr>\n      <th>997</th>\n      <td>1190</td>\n      <td>1190</td>\n      <td>1190</td>\n      <td>1190</td>\n    </tr>\n  </tbody>\n</table>\n</div>"
     },
     "execution_count": 34,
     "metadata": {},
     "output_type": "execute_result"
    }
   ],
   "source": [
    "df.groupby('COD_LINHA').count()"
   ],
   "metadata": {
    "collapsed": false
   }
  },
  {
   "cell_type": "code",
   "execution_count": 18,
   "outputs": [],
   "source": [],
   "metadata": {
    "collapsed": false
   }
  }
 ],
 "metadata": {
  "kernelspec": {
   "display_name": "Python 3",
   "language": "python",
   "name": "python3"
  },
  "language_info": {
   "codemirror_mode": {
    "name": "ipython",
    "version": 2
   },
   "file_extension": ".py",
   "mimetype": "text/x-python",
   "name": "python",
   "nbconvert_exporter": "python",
   "pygments_lexer": "ipython2",
   "version": "2.7.6"
  }
 },
 "nbformat": 4,
 "nbformat_minor": 0
}
